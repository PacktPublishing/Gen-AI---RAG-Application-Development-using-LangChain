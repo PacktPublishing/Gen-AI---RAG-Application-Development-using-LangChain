{
 "cells": [
  {
   "cell_type": "markdown",
   "id": "11a3b131",
   "metadata": {},
   "source": [
    "## Document Chains Demo"
   ]
  },
  {
   "cell_type": "markdown",
   "id": "c2b9709d",
   "metadata": {},
   "source": [
    "Document Chains allow you to process and analyze large amounts of text data efficiently. They provide a structured approach to working with documents, enabling you to retrieve, filter, refine, and rank them based on specific criteria.<br><br>\n",
    "By using different types of Document Chains like Stuff, Refine, Map Reduce, or Map Re-rank, you can perform specific operations on the retrieved documents and obtain more accurate and relevant results."
   ]
  },
  {
   "cell_type": "code",
   "execution_count": 1,
   "id": "0d56f30f",
   "metadata": {},
   "outputs": [],
   "source": [
    "import os\n",
    "import getpass\n",
    "import textwrap\n",
    "\n",
    "from langchain import OpenAI, PromptTemplate, LLMChain\n",
    "from langchain.chains.mapreduce import MapReduceChain\n",
    "from langchain.prompts import PromptTemplate\n",
    "from langchain.chains.summarize import load_summarize_chain\n",
    "# we will cover docstores and splitters in more details when we get to retrieval\n",
    "from langchain.docstore.document import Document\n",
    "from langchain.text_splitter import CharacterTextSplitter\n",
    "\n",
    "from dotenv import load_dotenv"
   ]
  },
  {
   "cell_type": "code",
   "execution_count": 2,
   "id": "b1c3d781",
   "metadata": {},
   "outputs": [
    {
     "data": {
      "text/plain": [
       "True"
      ]
     },
     "execution_count": 2,
     "metadata": {},
     "output_type": "execute_result"
    }
   ],
   "source": [
    "load_dotenv()"
   ]
  },
  {
   "cell_type": "code",
   "execution_count": 3,
   "id": "9c9e4583",
   "metadata": {},
   "outputs": [
    {
     "name": "stderr",
     "output_type": "stream",
     "text": [
      "/opt/anaconda3/lib/python3.9/site-packages/langchain_core/_api/deprecation.py:117: LangChainDeprecationWarning: The class `langchain_community.llms.openai.OpenAI` was deprecated in langchain-community 0.0.10 and will be removed in 0.2.0. An updated version of the class exists in the langchain-openai package and should be used instead. To use it run `pip install -U langchain-openai` and import as `from langchain_openai import OpenAI`.\n",
      "  warn_deprecated(\n"
     ]
    }
   ],
   "source": [
    "model = OpenAI(model_name=\"gpt-3.5-turbo-instruct\", temperature=0.5)"
   ]
  },
  {
   "cell_type": "markdown",
   "id": "eccf8d25",
   "metadata": {},
   "source": [
    "### Stuff Chain\n",
    "This involves putting all relevant data into the Prompt for LangChain’s StuffDocumentsChain to process.\n",
    "The advantage of this method is that it only requires one call to the LLM, and the model has access to all the information at once."
   ]
  },
  {
   "cell_type": "code",
   "execution_count": 4,
   "id": "78aeb75e",
   "metadata": {},
   "outputs": [],
   "source": [
    "from langchain_community.document_loaders import PyPDFLoader\n",
    "\n",
    "loader = PyPDFLoader(\"Software-Engineer-CV.pdf\")\n",
    "docs = loader.load()"
   ]
  },
  {
   "cell_type": "code",
   "execution_count": 5,
   "id": "6f32d864",
   "metadata": {},
   "outputs": [
    {
     "name": "stdout",
     "output_type": "stream",
     "text": [
      "---- Document # 1\n",
      "Name: Sunil Sharma                              Mobile: +91 9898989898  \n",
      " \n",
      "Designation: Senior Technical Lead                      Mail Id: sunil.sharma @gmail.com  \n",
      " \n",
      "Objective:   \n",
      "Experienced S enior Software Developer with 1 2 years of hands -on expertise in \n",
      "designing, developing, and delivering high -quality software solutions.  \n",
      "Proven track record of successfully leading and collaborating with cross -functional \n",
      "teams to deliver projects on time and within budget. Seeking to leverage my technical \n",
      "skills and leadership experience to contribute to innovative software projects.  \n",
      "Education:  \n",
      "Bachelor in Engineering in Electronics and Communication  \n",
      "K.L.N.  College of Information Technology, Madurai - 2007  \n",
      "Professional Summary:  \n",
      "• 12 years  of experience in Software Development in C on  Linux Environment . \n",
      "• Over 5 years of programming  experience as an Oracle PL/SQL  developer in \n",
      "Analysis, Design and Implementation of business application using Oracle DBMS . \n",
      "• Expertise in all stages of Software Development Life Cycle. \n",
      "• Effectively made use of Table functions, indexes, Table partitioning , Collections , \n",
      "Analytical functions  and materialized views . \n",
      "• Created tables, views, constraints  and indexes  (B Tree and function based).  \n",
      "• Developed complex DB objects like packages , procedures , functions  and triggers  \n",
      "using PL/SQL  \n",
      "• Experience in Oracle -supplied  packages, Dynamic SQL , records  and tables . \n",
      "• Loaded data into database tables using SQL Loader . \n",
      "• Good knowledge of Oracle performance -related features like query optimizer , \n",
      "execute plans  and indexes . \n",
      " \n",
      "Experience :\n",
      "---- Document # 2\n",
      "• Working as a Senior Technical Lead  in HCL-EHI project  since  August -2019 to till \n",
      "date  \n",
      " \n",
      "• Worked  as a Technical Lead  in NOKIA NETWORKS  in Research and Design \n",
      "Division of Protocol development and Digital Home  BU since August -2013  to \n",
      "September -2018  \n",
      " \n",
      "• Worked as a Senior Engineer  in Plintron  Global Technology Solutions Pvt. Ltd.  \n",
      " in Research and Design Division from June -2011 to August -2013  \n",
      " \n",
      "Skills:  \n",
      "• Programming  Languages:  PL/SQL, C, Pro C, Shell scripting  \n",
      "• Database Management: Oracle  \n",
      "• Operating System: Linux  \n",
      "• Version Control: GIT, TFS, CVS  \n",
      "• Tools: PL/SQL developer,  JIRA, Confluence, Visual studio, GDB, Mercurial, Spirent Test \n",
      "Centre (STC), Wireshark  \n",
      "• Leadership and Team Collaboration  \n",
      " \n",
      "Project History:  \n",
      " \n",
      "Project#1 : EHI – Advantasure   \n",
      " \n",
      "Organization  : HCL Technologies - Madurai  \n",
      "Position  : Senior Technical Lead  \n",
      "Domain  : Health care  \n",
      "Technologies  : C, Pro C , PL/SQL, Linux  \n",
      " \n",
      "Description : This project involves in providing the support for the insurance \n",
      "company - Advantasure in healthcare domain. The major lines of business are \n",
      "Enrolment, Billing and Claims. Claims adjudication team involves in handling all business \n",
      "logics for processing a claim from submission to payment.  \n",
      " \n",
      " \n",
      " \n",
      " \n",
      " \n",
      " \n",
      " \n",
      " \n",
      "Contribution :\n",
      "---- Document # 3\n",
      "• Currently, working as the lead developer in a healthcare project based on USA.  \n",
      "• Leading the offshore development activities.  \n",
      "• Handling the PL SQL development team and working with the team   \n",
      "• Expertise in solving problems on complex SQL related to Reporting . \n",
      "• Expertise in creating the indexes on tables and partitioning the table for SQL tuning \n",
      "purpose  \n",
      "• Expertise in writing very complex SQL queries which are helpful for reporting \n",
      "purpose  \n",
      "• Expertise in writing procedures, functions, views and materialized views as required  \n",
      "• Having good experience on Client Interaction and Presentation Skills.  \n",
      " \n",
      "Project# 2: Support of CFM on the ONT  \n",
      " \n",
      "Organization  : Nokia Networks – formerly Alcatel -Lucent  \n",
      "Position  : Technical Lead  \n",
      "Domain  : L2/L3 protocol dev elopment  \n",
      "Technologies  : PL/SQL, C, shell scripting and Linux  \n",
      " \n",
      "Description : This feature is to enhance ALU’s ONT GPON access networking solution \n",
      "with support for IEEE802.1ag CFM & ITU -T y.1731 protocols to perform Ethernet fault \n",
      "and performance management activities.  \n",
      " \n",
      "Project# 3: DSCP tagging for L3 packets   \n",
      " \n",
      "Organization  : Nokia Networks – formerly Alcatel -Lucent  \n",
      "Position  : Technical Lead  \n",
      "Domain  : L2/L3 protocol dev elopment  \n",
      "Technologies  : C, shell scripting and Linux  \n",
      " \n",
      "Description : This feature is to provide the configurable DSCP tagging on packets to \n",
      "differentiate best quality for all services.  \n",
      " \n",
      "Project# 4: Dual TR069 stack development on ONT   \n",
      " \n",
      "Description : Dedicated TR069 connection to WHW SaaS Server, in order to keep the \n",
      "solution inde pendent of carriers existing CDP . Collecting the WiF i Care parameter from \n",
      "the Gateway via TR069, as and when required.  Configuring UPnP, WAN, LAN, DHCP, \n",
      "WLAN setting, All WiFi parameters, IP connectivity, Speed test, Firewall setting, might \n",
      "add port/application setting related to Wi -Fi care.\n"
     ]
    }
   ],
   "source": [
    "cnt = 0\n",
    "for doc in docs:\n",
    "    cnt = cnt+1\n",
    "    print(\"---- Document #\", cnt)\n",
    "    print(doc.page_content.strip())"
   ]
  },
  {
   "cell_type": "code",
   "execution_count": 6,
   "id": "f358d5aa",
   "metadata": {},
   "outputs": [],
   "source": [
    "prompt_template =\"\"\"\n",
    "You are given a Resume as the below text. \n",
    "-----\n",
    "{text}\n",
    "-----\n",
    "Question: Please respond with the Key Skills and Experience summary of the person. \n",
    "Key Skills:\n",
    "Esxperience Summary: \n",
    "\"\"\""
   ]
  },
  {
   "cell_type": "code",
   "execution_count": 7,
   "id": "588739f8",
   "metadata": {},
   "outputs": [
    {
     "name": "stderr",
     "output_type": "stream",
     "text": [
      "/opt/anaconda3/lib/python3.9/site-packages/langchain_core/_api/deprecation.py:117: LangChainDeprecationWarning: The function `run` was deprecated in LangChain 0.1.0 and will be removed in 0.2.0. Use invoke instead.\n",
      "  warn_deprecated(\n"
     ]
    }
   ],
   "source": [
    "prompt = PromptTemplate(template=prompt_template, input_variables=[\"text\"])\n",
    "\n",
    "stuff_chain = load_summarize_chain(model,\n",
    "                             chain_type=\"stuff\",\n",
    "                             prompt=prompt)\n",
    "\n",
    "output_summary = stuff_chain.run(docs)"
   ]
  },
  {
   "cell_type": "code",
   "execution_count": 8,
   "id": "7c3df3d4",
   "metadata": {},
   "outputs": [
    {
     "name": "stdout",
     "output_type": "stream",
     "text": [
      "\n",
      "Key Skills: \n",
      "1. Software Development \n",
      "2. Oracle PL/SQL \n",
      "3. Linux Environment \n",
      "4. Database Management \n",
      "5. Programming Languages: C, Pro C, Shell scripting \n",
      "6. Version Control: GIT, TFS, CVS \n",
      "7. Tools: PL/SQL developer, JIRA, Confluence, Visual studio, GDB, Mercurial, Spirent Test Centre (STC), Wireshark \n",
      "8. Leadership and Team Collaboration \n",
      "\n",
      "Experience Summary: \n",
      "1. 12 years of experience in Software Development \n",
      "2. 5 years of experience as an Oracle PL/SQL developer \n",
      "3. Expertise in all stages of Software Development Life Cycle \n",
      "4. Experience with Table functions, indexes, Table partitioning, Collections, Analytical functions, and materialized views \n",
      "5. Proficient in creating tables, views, constraints, and indexes \n",
      "6. Strong knowledge of Oracle performance-related features \n",
      "7. Experience with Oracle-supplied packages, Dynamic SQL, records, and tables \n",
      "8. Familiarity with SQL Loader for loading data into database tables \n",
      "9. Experience in leading and collaborating with cross-functional teams \n",
      "10. Good communication and presentation skills \n",
      "11. Experience in healthcare and telecommunication domains \n",
      "12. Proficient in\n"
     ]
    }
   ],
   "source": [
    "print(output_summary)"
   ]
  },
  {
   "cell_type": "markdown",
   "id": "e7506a5f",
   "metadata": {},
   "source": [
    "## Refine Chain\n",
    "The Refine Documents Chain uses an iterative process to generate a response by analyzing each input document and updating its answer accordingly.<br>\n",
    "\n",
    "It passes all non-document inputs, the current document, and the latest intermediate answer to an LLM chain to obtain a new answer for each document.<br>\n",
    "\n",
    "This chain is ideal for tasks that involve analyzing more documents than can fit in the model’s context, as it only passes a single document to the LLM at a time."
   ]
  },
  {
   "cell_type": "code",
   "execution_count": 9,
   "id": "56903890",
   "metadata": {},
   "outputs": [
    {
     "name": "stdout",
     "output_type": "stream",
     "text": [
      "Your job is to produce a final summary.\n",
      "We have provided an existing summary up to a certain point: {existing_answer}\n",
      "We have the opportunity to refine the existing summary (only if needed) with some more context below.\n",
      "------------\n",
      "{text}\n",
      "------------\n",
      "Given the new context, refine the original summary.\n",
      "If the context isn't useful, return the original summary.\n"
     ]
    }
   ],
   "source": [
    "refine_chain = load_summarize_chain(model, chain_type=\"refine\")\n",
    "print(refine_chain.refine_llm_chain.prompt.template)"
   ]
  },
  {
   "cell_type": "code",
   "execution_count": 10,
   "id": "9cb64f4a",
   "metadata": {},
   "outputs": [
    {
     "data": {
      "text/plain": [
       "\"\\n\\nSunil Sharma is a highly experienced Senior Technical Lead with a Bachelor's degree in Engineering and a proven track record in software development. With 12 years of experience, he has worked in various roles, including Technical Lead at Nokia Networks and Senior Engineer at Plintron Global Technology Solutions Pvt. Ltd. Sunil is skilled in Oracle PL/SQL development and has a strong understanding of programming languages, database management, and operating systems. He is also proficient in various tools and has a knack for leadership and team collaboration. Currently, he is working as a Senior Technical Lead at HCL Technologies, leading the offshore development activities for a healthcare project based in the USA. Sunil has expertise in solving complex SQL problems related to reporting, creating indexes and partitioning tables for SQL tuning, and writing procedures, functions, views, and materialized views. His previous projects at Nokia Networks include enhancing their ONT GPON access networking solution with support for Ethernet fault and performance management protocols, providing configurable DSCP tagging for L3 packets, and developing a dual TR069 stack for ONT with dedicated TR069 connection to WHW SaaS Server. Sunil's exceptional technical skills, leadership experience, and client interaction abilities make him a valuable asset to any software project.\""
      ]
     },
     "execution_count": 10,
     "metadata": {},
     "output_type": "execute_result"
    }
   ],
   "source": [
    "output_summary = refine_chain.run(docs)\n",
    "output_summary"
   ]
  },
  {
   "cell_type": "markdown",
   "id": "9a2e75c2",
   "metadata": {},
   "source": [
    "## Map-Reduce Chain\n",
    "To process large amounts of data efficiently, the MapReduceDocumentsChain method is used.<br>\n",
    "This involves applying an LLM chain to each document individually (in the Map step), producing a new document. Then, all the new documents are passed to a separate combine documents chain to get a single output (in the Reduce step). If necessary, the mapped documents can be compressed before passing them to the combine documents chain.<br>\n",
    "This compression step is performed recursively."
   ]
  },
  {
   "cell_type": "code",
   "execution_count": 11,
   "id": "bb8a57b8",
   "metadata": {},
   "outputs": [],
   "source": [
    "map_reduce_chain = load_summarize_chain(model,\n",
    "                                        chain_type=\"map_reduce\",\n",
    "                                        verbose=True)"
   ]
  },
  {
   "cell_type": "code",
   "execution_count": 12,
   "id": "0ef1648d",
   "metadata": {},
   "outputs": [
    {
     "name": "stdout",
     "output_type": "stream",
     "text": [
      "Write a concise summary of the following:\n",
      "\n",
      "\n",
      "\"{text}\"\n",
      "\n",
      "\n",
      "CONCISE SUMMARY:\n"
     ]
    }
   ],
   "source": [
    "print(map_reduce_chain.llm_chain.prompt.template)"
   ]
  },
  {
   "cell_type": "code",
   "execution_count": 13,
   "id": "7f12cfe8",
   "metadata": {},
   "outputs": [
    {
     "name": "stdout",
     "output_type": "stream",
     "text": [
      "\n",
      "\n",
      "\u001b[1m> Entering new MapReduceDocumentsChain chain...\u001b[0m\n",
      "\n",
      "\n",
      "\u001b[1m> Entering new LLMChain chain...\u001b[0m\n",
      "Prompt after formatting:\n",
      "\u001b[32;1m\u001b[1;3mWrite a concise summary of the following:\n",
      "\n",
      "\n",
      "\"        \n",
      "                                                 \n",
      "Name: Sunil Sharma                              Mobile: +91 9898989898  \n",
      " \n",
      "Designation: Senior Technical Lead                      Mail Id: sunil.sharma @gmail.com  \n",
      " \n",
      "Objective:   \n",
      "Experienced S enior Software Developer with 1 2 years of hands -on expertise in \n",
      "designing, developing, and delivering high -quality software solutions.  \n",
      "Proven track record of successfully leading and collaborating with cross -functional \n",
      "teams to deliver projects on time and within budget. Seeking to leverage my technical \n",
      "skills and leadership experience to contribute to innovative software projects.  \n",
      "Education:  \n",
      "Bachelor in Engineering in Electronics and Communication  \n",
      "K.L.N.  College of Information Technology, Madurai - 2007  \n",
      "Professional Summary:  \n",
      "• 12 years  of experience in Software Development in C on  Linux Environment . \n",
      "• Over 5 years of programming  experience as an Oracle PL/SQL  developer in \n",
      "Analysis, Design and Implementation of business application using Oracle DBMS . \n",
      "• Expertise in all stages of Software Development Life Cycle. \n",
      "• Effectively made use of Table functions, indexes, Table partitioning , Collections , \n",
      "Analytical functions  and materialized views . \n",
      "• Created tables, views, constraints  and indexes  (B Tree and function based).  \n",
      "• Developed complex DB objects like packages , procedures , functions  and triggers  \n",
      "using PL/SQL  \n",
      "• Experience in Oracle -supplied  packages, Dynamic SQL , records  and tables . \n",
      "• Loaded data into database tables using SQL Loader . \n",
      "• Good knowledge of Oracle performance -related features like query optimizer , \n",
      "execute plans  and indexes . \n",
      " \n",
      "Experience :  \n",
      "\"\n",
      "\n",
      "\n",
      "CONCISE SUMMARY:\u001b[0m\n",
      "Prompt after formatting:\n",
      "\u001b[32;1m\u001b[1;3mWrite a concise summary of the following:\n",
      "\n",
      "\n",
      "\"     \n",
      "• Working as a Senior Technical Lead  in HCL-EHI project  since  August -2019 to till \n",
      "date  \n",
      " \n",
      "• Worked  as a Technical Lead  in NOKIA NETWORKS  in Research and Design \n",
      "Division of Protocol development and Digital Home  BU since August -2013  to \n",
      "September -2018  \n",
      " \n",
      "• Worked as a Senior Engineer  in Plintron  Global Technology Solutions Pvt. Ltd.  \n",
      " in Research and Design Division from June -2011 to August -2013  \n",
      " \n",
      "Skills:  \n",
      "• Programming  Languages:  PL/SQL, C, Pro C, Shell scripting  \n",
      "• Database Management: Oracle  \n",
      "• Operating System: Linux  \n",
      "• Version Control: GIT, TFS, CVS  \n",
      "• Tools: PL/SQL developer,  JIRA, Confluence, Visual studio, GDB, Mercurial, Spirent Test \n",
      "Centre (STC), Wireshark  \n",
      "• Leadership and Team Collaboration  \n",
      " \n",
      "Project History:  \n",
      " \n",
      "Project#1 : EHI – Advantasure   \n",
      " \n",
      "Organization  : HCL Technologies - Madurai  \n",
      "Position  : Senior Technical Lead  \n",
      "Domain  : Health care  \n",
      "Technologies  : C, Pro C , PL/SQL, Linux  \n",
      " \n",
      "Description : This project involves in providing the support for the insurance \n",
      "company - Advantasure in healthcare domain. The major lines of business are \n",
      "Enrolment, Billing and Claims. Claims adjudication team involves in handling all business \n",
      "logics for processing a claim from submission to payment.  \n",
      " \n",
      " \n",
      " \n",
      " \n",
      " \n",
      " \n",
      " \n",
      " \n",
      "Contribution : \"\n",
      "\n",
      "\n",
      "CONCISE SUMMARY:\u001b[0m\n",
      "Prompt after formatting:\n",
      "\u001b[32;1m\u001b[1;3mWrite a concise summary of the following:\n",
      "\n",
      "\n",
      "\"• Currently, working as the lead developer in a healthcare project based on USA.  \n",
      "• Leading the offshore development activities.  \n",
      "• Handling the PL SQL development team and working with the team   \n",
      "• Expertise in solving problems on complex SQL related to Reporting . \n",
      "• Expertise in creating the indexes on tables and partitioning the table for SQL tuning \n",
      "purpose  \n",
      "• Expertise in writing very complex SQL queries which are helpful for reporting \n",
      "purpose  \n",
      "• Expertise in writing procedures, functions, views and materialized views as required  \n",
      "• Having good experience on Client Interaction and Presentation Skills.  \n",
      " \n",
      "Project# 2: Support of CFM on the ONT  \n",
      " \n",
      "Organization  : Nokia Networks – formerly Alcatel -Lucent  \n",
      "Position  : Technical Lead  \n",
      "Domain  : L2/L3 protocol dev elopment  \n",
      "Technologies  : PL/SQL, C, shell scripting and Linux  \n",
      " \n",
      "Description : This feature is to enhance ALU’s ONT GPON access networking solution \n",
      "with support for IEEE802.1ag CFM & ITU -T y.1731 protocols to perform Ethernet fault \n",
      "and performance management activities.  \n",
      " \n",
      "Project# 3: DSCP tagging for L3 packets   \n",
      " \n",
      "Organization  : Nokia Networks – formerly Alcatel -Lucent  \n",
      "Position  : Technical Lead  \n",
      "Domain  : L2/L3 protocol dev elopment  \n",
      "Technologies  : C, shell scripting and Linux  \n",
      " \n",
      "Description : This feature is to provide the configurable DSCP tagging on packets to \n",
      "differentiate best quality for all services.  \n",
      " \n",
      "Project# 4: Dual TR069 stack development on ONT   \n",
      " \n",
      "Description : Dedicated TR069 connection to WHW SaaS Server, in order to keep the \n",
      "solution inde pendent of carriers existing CDP . Collecting the WiF i Care parameter from \n",
      "the Gateway via TR069, as and when required.  Configuring UPnP, WAN, LAN, DHCP, \n",
      "WLAN setting, All WiFi parameters, IP connectivity, Speed test, Firewall setting, might \n",
      "add port/application setting related to Wi -Fi care.  \"\n",
      "\n",
      "\n",
      "CONCISE SUMMARY:\u001b[0m\n",
      "\n",
      "\u001b[1m> Finished chain.\u001b[0m\n",
      "\n",
      "\n",
      "\u001b[1m> Entering new LLMChain chain...\u001b[0m\n",
      "Prompt after formatting:\n",
      "\u001b[32;1m\u001b[1;3mWrite a concise summary of the following:\n",
      "\n",
      "\n",
      "\"\n",
      "\n",
      "Sunil Sharma is a Senior Technical Lead with 12 years of experience in software development. He has a Bachelor's degree in Engineering and is skilled in Oracle PL/SQL development. He has a proven track record of successfully leading cross-functional teams and is seeking to leverage his technical skills and leadership experience in innovative software projects. Sunil has expertise in all stages of the software development life cycle and is proficient in various Oracle performance-related features.\n",
      "\n",
      "\n",
      "\n",
      "The individual has worked in various technical roles, such as Senior Technical Lead and Technical Lead, at companies like HCL Technologies, Nokia Networks, and Plintron Global Technology Solutions Pvt. Ltd. They possess skills in programming languages, database management, operating systems, version control, and various tools. They also have experience in leadership and team collaboration. In their most recent project, EHI - Advantasure, they provided support for an insurance company in the healthcare domain, specifically in the areas of enrollment, billing, and claims. \n",
      "\n",
      " The person is currently working as a lead developer in a healthcare project in the USA, managing offshore development and a PL/SQL team. They have expertise in solving complex SQL problems and creating indexes and partitioning tables. They also have experience in client interaction and presentation skills. In previous projects for Nokia Networks, they worked as a technical lead in L2/L3 protocol development, using PL/SQL, C, shell scripting, and Linux. These projects involved adding support for CFM and DSCP tagging for Ethernet fault and performance management, as well as developing a dual TR069 stack for independent solution connectivity.\"\n",
      "\n",
      "\n",
      "CONCISE SUMMARY:\u001b[0m\n",
      "\n",
      "\u001b[1m> Finished chain.\u001b[0m\n",
      "\n",
      "\u001b[1m> Finished chain.\u001b[0m\n",
      " Sunil Sharma is a highly experienced Senior Technical Lead with expertise in Oracle PL/SQL development and a proven track record of successfully leading cross-functional teams. They have a Bachelor's degree in Engineering and experience in various technical roles at companies such as HCL Technologies, Nokia Networks, and Plintron Global Technology Solutions Pvt. Ltd. They are skilled in programming languages, database management, and operating systems, and have experience in leadership and team collaboration. Currently, they are working as a lead developer in a healthcare project in the USA and have expertise in solving complex SQL problems and managing offshore development. They also have experience in client interaction and presentation skills. \n"
     ]
    }
   ],
   "source": [
    "# just using the first 20 chunks as I don't want to run too long\n",
    "output_summary = map_reduce_chain.run(docs)\n",
    "\n",
    "print(output_summary)"
   ]
  },
  {
   "cell_type": "code",
   "execution_count": null,
   "id": "4609e5ad",
   "metadata": {},
   "outputs": [],
   "source": []
  },
  {
   "cell_type": "code",
   "execution_count": null,
   "id": "04dbbdc7",
   "metadata": {},
   "outputs": [],
   "source": []
  },
  {
   "cell_type": "code",
   "execution_count": null,
   "id": "648db7e2",
   "metadata": {},
   "outputs": [],
   "source": []
  },
  {
   "cell_type": "code",
   "execution_count": null,
   "id": "b7b74a39",
   "metadata": {},
   "outputs": [],
   "source": []
  },
  {
   "cell_type": "code",
   "execution_count": null,
   "id": "4b1a335f",
   "metadata": {},
   "outputs": [],
   "source": []
  }
 ],
 "metadata": {
  "celltoolbar": "Raw Cell Format",
  "kernelspec": {
   "display_name": "Python 3 (ipykernel)",
   "language": "python",
   "name": "python3"
  },
  "language_info": {
   "codemirror_mode": {
    "name": "ipython",
    "version": 3
   },
   "file_extension": ".py",
   "mimetype": "text/x-python",
   "name": "python",
   "nbconvert_exporter": "python",
   "pygments_lexer": "ipython3",
   "version": "3.9.12"
  }
 },
 "nbformat": 4,
 "nbformat_minor": 5
}
