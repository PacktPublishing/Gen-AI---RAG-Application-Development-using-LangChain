{
 "cells": [
  {
   "cell_type": "markdown",
   "id": "4da4d5ac",
   "metadata": {},
   "source": [
    "## Agents and Tools"
   ]
  },
  {
   "cell_type": "markdown",
   "id": "1caae071",
   "metadata": {},
   "source": [
    "### Agents: Agents enable LLMs to work with tools that perform various tasks\n",
    "To use agents, we require three things:\n",
    "- A base LLM,\n",
    "- A tool that we will be interacting with,\n",
    "- An agent to control the interaction."
   ]
  },
  {
   "cell_type": "markdown",
   "id": "4323f74b",
   "metadata": {},
   "source": [
    "### In the following example, we will use the Math tool to perform some simple math operations"
   ]
  },
  {
   "cell_type": "code",
   "execution_count": 1,
   "id": "a3f6355f",
   "metadata": {},
   "outputs": [
    {
     "data": {
      "text/plain": [
       "True"
      ]
     },
     "execution_count": 1,
     "metadata": {},
     "output_type": "execute_result"
    }
   ],
   "source": [
    "from dotenv import load_dotenv\n",
    "from langchain_openai import OpenAI\n",
    "load_dotenv()"
   ]
  },
  {
   "cell_type": "code",
   "execution_count": 2,
   "id": "ff93acf9",
   "metadata": {},
   "outputs": [],
   "source": [
    "llm = OpenAI(\n",
    "    temperature=0,\n",
    "    model_name=\"gpt-3.5-turbo-instruct\"\n",
    ")"
   ]
  },
  {
   "cell_type": "code",
   "execution_count": 3,
   "id": "83dabb48",
   "metadata": {},
   "outputs": [],
   "source": [
    "from langchain.chains import LLMMathChain # Chain that interprets a prompt and executes python code to do math.\n",
    "from langchain.agents import Tool"
   ]
  },
  {
   "cell_type": "code",
   "execution_count": 4,
   "id": "40f27906",
   "metadata": {},
   "outputs": [
    {
     "name": "stderr",
     "output_type": "stream",
     "text": [
      "/opt/anaconda3/lib/python3.9/site-packages/langchain/chains/llm_math/base.py:57: UserWarning: Directly instantiating an LLMMathChain with an llm is deprecated. Please instantiate with llm_chain argument or using the from_llm class method.\n",
      "  warnings.warn(\n"
     ]
    }
   ],
   "source": [
    "# initialize the math tool\n",
    "\n",
    "llm_math = LLMMathChain(llm=llm)\n",
    "\n",
    "math_tool = Tool(\n",
    "    name='Calculator',\n",
    "    func=llm_math.run,\n",
    "    description='Useful for when you need to answer questions about math.'\n",
    ")\n",
    "\n",
    "# when giving tools to LLM, we must pass as list of tools\n",
    "tools = [math_tool]  # is a list of possible Tools that your agent can use"
   ]
  },
  {
   "cell_type": "code",
   "execution_count": 5,
   "id": "7c918e49",
   "metadata": {},
   "outputs": [
    {
     "name": "stdout",
     "output_type": "stream",
     "text": [
      "Calculator --- Useful for when you need to answer questions about math.\n"
     ]
    }
   ],
   "source": [
    "print(tools[0].name, \"---\", tools[0].description)"
   ]
  },
  {
   "cell_type": "markdown",
   "id": "e0ceb3c1",
   "metadata": {},
   "source": [
    "## Now create an Agent\n",
    "#### Zero-shot ReAct\n",
    "The Zero-shot ReAct Agent is a language generation model that can create realistic contexts even without being trained on specific data. It can be used for various tasks such as generating creative text formats, language translation, and generating different types of creative content."
   ]
  },
  {
   "cell_type": "code",
   "execution_count": 6,
   "id": "7fcec1ac",
   "metadata": {},
   "outputs": [
    {
     "name": "stderr",
     "output_type": "stream",
     "text": [
      "/opt/anaconda3/lib/python3.9/site-packages/langchain_core/_api/deprecation.py:117: LangChainDeprecationWarning: The function `initialize_agent` was deprecated in LangChain 0.1.0 and will be removed in 0.2.0. Use Use new agent constructor methods like create_react_agent, create_json_agent, create_structured_chat_agent, etc. instead.\n",
      "  warn_deprecated(\n"
     ]
    }
   ],
   "source": [
    "from langchain.agents import initialize_agent\n",
    "\n",
    "zero_shot_agent = initialize_agent(\n",
    "    agent=\"zero-shot-react-description\",\n",
    "    tools=tools,\n",
    "    llm=llm,\n",
    "    verbose=True,\n",
    "    max_iterations=10\n",
    ")"
   ]
  },
  {
   "cell_type": "code",
   "execution_count": 7,
   "id": "5e0ff035",
   "metadata": {},
   "outputs": [
    {
     "name": "stderr",
     "output_type": "stream",
     "text": [
      "/opt/anaconda3/lib/python3.9/site-packages/langchain_core/_api/deprecation.py:117: LangChainDeprecationWarning: The function `__call__` was deprecated in LangChain 0.1.0 and will be removed in 0.2.0. Use invoke instead.\n",
      "  warn_deprecated(\n"
     ]
    },
    {
     "name": "stdout",
     "output_type": "stream",
     "text": [
      "\n",
      "\n",
      "\u001b[1m> Entering new AgentExecutor chain...\u001b[0m\n",
      "\u001b[32;1m\u001b[1;3m I should use a calculator to find the square root of 25\n",
      "Action: Calculator\n",
      "Action Input: √25\u001b[0m\n",
      "Observation: \u001b[36;1m\u001b[1;3mAnswer: 5.0\u001b[0m\n",
      "Thought:\u001b[32;1m\u001b[1;3m I now know the final answer\n",
      "Final Answer: 5.0\u001b[0m\n",
      "\n",
      "\u001b[1m> Finished chain.\u001b[0m\n"
     ]
    },
    {
     "data": {
      "text/plain": [
       "{'input': 'What is root over 25', 'output': '5.0'}"
      ]
     },
     "execution_count": 7,
     "metadata": {},
     "output_type": "execute_result"
    }
   ],
   "source": [
    "zero_shot_agent(\"What is root over 25\")"
   ]
  },
  {
   "cell_type": "code",
   "execution_count": 8,
   "id": "249d215b",
   "metadata": {},
   "outputs": [
    {
     "name": "stdout",
     "output_type": "stream",
     "text": [
      "\n",
      "\n",
      "\u001b[1m> Entering new AgentExecutor chain...\u001b[0m\n",
      "\u001b[32;1m\u001b[1;3m I need to calculate the area of each room and then add them together to get the total area of the house.\n",
      "Action: Calculator\n",
      "Action Input: 5 * 5\u001b[0m\n",
      "Observation: \u001b[36;1m\u001b[1;3mAnswer: 25\u001b[0m\n",
      "Thought:\u001b[32;1m\u001b[1;3m This is the area of one bedroom.\n",
      "Action: Calculator\n",
      "Action Input: 7 * 6\u001b[0m\n",
      "Observation: \u001b[36;1m\u001b[1;3mAnswer: 42\u001b[0m\n",
      "Thought:\u001b[32;1m\u001b[1;3m This is the area of the drawing cum open kitchen.\n",
      "Action: Calculator\n",
      "Action Input: 3 * 2\u001b[0m\n",
      "Observation: \u001b[36;1m\u001b[1;3mAnswer: 6\u001b[0m\n",
      "Thought:\u001b[32;1m\u001b[1;3m This is the area of the balcony.\n",
      "Action: Calculator\n",
      "Action Input: 25 + 25 + 42 + 6\u001b[0m\n",
      "Observation: \u001b[36;1m\u001b[1;3mAnswer: 98\u001b[0m\n",
      "Thought:\u001b[32;1m\u001b[1;3m This is the total area of the house.\n",
      "Final Answer: The total area of the house is 98 square metres.\u001b[0m\n",
      "\n",
      "\u001b[1m> Finished chain.\u001b[0m\n"
     ]
    },
    {
     "data": {
      "text/plain": [
       "{'input': '\\n        You are building a house. There are two bedrooms of 5 metres by 5 metres each and drawing cum open kitchen \\n        is 7 metres by 6 metres and balcony of 3 metres by 2 metres. \\n        What is the total area of your house?\\n        ',\n",
       " 'output': 'The total area of the house is 98 square metres.'}"
      ]
     },
     "execution_count": 8,
     "metadata": {},
     "output_type": "execute_result"
    }
   ],
   "source": [
    "problem = \"\"\"\n",
    "        You are building a house. There are two bedrooms of 5 metres by 5 metres each and drawing cum open kitchen \n",
    "        is 7 metres by 6 metres and balcony of 3 metres by 2 metres. \n",
    "        What is the total area of your house?\n",
    "        \"\"\"\n",
    "zero_shot_agent(problem)"
   ]
  },
  {
   "cell_type": "markdown",
   "id": "6e0cc231",
   "metadata": {},
   "source": [
    "## Using mutiple Tools\n",
    "In the following example, we will be using the Duck Duck Go search API as a Tool combined with the Math Tool\n",
    "We will then give the Agent a problem that initiates a search first followed by a Calculation."
   ]
  },
  {
   "cell_type": "code",
   "execution_count": 9,
   "id": "4fc1448a",
   "metadata": {},
   "outputs": [
    {
     "name": "stderr",
     "output_type": "stream",
     "text": [
      "/opt/anaconda3/lib/python3.9/site-packages/langchain/chains/llm_math/base.py:57: UserWarning: Directly instantiating an LLMMathChain with an llm is deprecated. Please instantiate with llm_chain argument or using the from_llm class method.\n",
      "  warnings.warn(\n"
     ]
    }
   ],
   "source": [
    "# Define the Tools\n",
    "\n",
    "from langchain.tools import DuckDuckGoSearchRun\n",
    "\n",
    "search = DuckDuckGoSearchRun()\n",
    "\n",
    "search_tool = Tool.from_function(\n",
    "    func=search.run,\n",
    "    name=\"Search\",\n",
    "    description=\"useful for when you need to search the internet for information\"\n",
    ")\n",
    "\n",
    "llm_math_chain = LLMMathChain(llm=llm, verbose=True)\n",
    "\n",
    "math_tool = Tool.from_function(\n",
    "    func=llm_math_chain.run,\n",
    "    name=\"Calculator\",\n",
    "    description=\"Useful for when you are asked to perform math calculations\"\n",
    ")"
   ]
  },
  {
   "cell_type": "code",
   "execution_count": 23,
   "id": "272a83e6",
   "metadata": {},
   "outputs": [],
   "source": [
    "# Define the Agent\n",
    "\n",
    "tools = [search_tool, math_tool]\n",
    "\n",
    "agent = initialize_agent(\n",
    "    tools,\n",
    "    llm,\n",
    "    agent=\"zero-shot-react-description\",\n",
    "    verbose=True\n",
    ")"
   ]
  },
  {
   "cell_type": "code",
   "execution_count": 25,
   "id": "0f3387c9",
   "metadata": {},
   "outputs": [
    {
     "name": "stdout",
     "output_type": "stream",
     "text": [
      "\n",
      "\n",
      "\u001b[1m> Entering new AgentExecutor chain...\u001b[0m\n",
      "\u001b[32;1m\u001b[1;3m I should use the search tool to find the current Microsoft stock price on Google Finance.\n",
      "Action: Search\n",
      "Action Input: \"Microsoft stock price Google Finance\"\u001b[0m\n",
      "Observation: \u001b[36;1m\u001b[1;3mMicrosoft. Market Cap. Today's Change. (1.45%) $5.92. Current Price. $413.64. Price as of February 29, 2024, 4:00 p.m. ET. You're reading a free article with opinions that may differ from The ... Get a real-time Microsoft Corporation (MSFT) stock price quote with breaking news, financials, statistics, charts and more. ... Yahoo Finance. Exclusive: Google steps up Microsoft criticism, warns of rival's monopoly in cloud. 3.00 (0.74%) Ex-Dividend Date. 2024-02-14. Analyst rating and price target. MSFT is rated \"Strong Buy\" with a 12-month target price of $465.63, a ‎12.57% upside from the current price of $413.64 ... Get the latest Microsoft stock price NASDAQ: MSFT stock rating and detailed information including MSFT news, historical charts and real-time prices. View Microsoft Corporation MSFT stock quote prices, financial information, real-time forecasts, and company news from CNN. ... (MSFT) By TipRanks Feb 26 5:52am ET Google says Microsoft offered to ...\u001b[0m\n",
      "Thought:\u001b[32;1m\u001b[1;3m Now that I have the current stock price, I can use the calculator to convert it to both USD and INR values.\n",
      "Action: Calculator\n",
      "Action Input: $413.64\u001b[0m\n",
      "\n",
      "\u001b[1m> Entering new LLMMathChain chain...\u001b[0m\n",
      "$413.64\u001b[32;1m\u001b[1;3m```text\n",
      "413.64\n",
      "```\n",
      "...numexpr.evaluate(\"413.64\")...\n",
      "\u001b[0m\n",
      "Answer: \u001b[33;1m\u001b[1;3m413.64\u001b[0m\n",
      "\u001b[1m> Finished chain.\u001b[0m\n",
      "\n",
      "Observation: \u001b[33;1m\u001b[1;3mAnswer: 413.64\u001b[0m\n",
      "Thought:\u001b[32;1m\u001b[1;3m I need to find the current exchange rate for USD to INR.\n",
      "Action: Search\n",
      "Action Input: \"USD to INR exchange rate\"\u001b[0m\n",
      "Observation: \u001b[36;1m\u001b[1;3mCurrent exchange rate US DOLLAR (USD) to INDIAN RUPEE (INR) including currency converter, buying & selling rate and historical conversion chart. 1 USD = 83.1218 INR. Check live rates, send money securely, set rate alerts, receive notifications and more. New Zealand Money Transfer. Money Transfer & Currency Apps. New Zealand Business Money Transfer. Get the latest 1,000 US Dollar to Indian Rupee rate for FREE with the original Universal Currency Converter. Find out the current exchange rate of USD to INR and learn how to convert and buy rupees for your trip to India. Compare different money transfer providers and avoid high fees and poor rates. 78 USD to INR - Convert US Dollars to Indian Rupees. 1 USD = 82.9070 INR. Check live rates, send money securely, set rate alerts, receive notifications and more. New Zealand Money Transfer. Money Transfer & Currency Apps. New Zealand Business Money Transfer. Exchange Rate US Dollar to Indian Rupee. 1.00 USD = 82.913343 INR. Feb 29, 2024 11:01 UTC. View USD Rates Table. View INR Rates Table. View USD / INR Graphs. 1. Configure Converter. ↔.\u001b[0m\n",
      "Thought:\u001b[32;1m\u001b[1;3m Now I can use the calculator again to convert the USD value to INR.\n",
      "Action: Calculator\n",
      "Action Input: 413.64 * 83.1218\u001b[0m\n",
      "\n",
      "\u001b[1m> Entering new LLMMathChain chain...\u001b[0m\n",
      "413.64 * 83.1218\u001b[32;1m\u001b[1;3m```text\n",
      "413.64 * 83.1218\n",
      "```\n",
      "...numexpr.evaluate(\"413.64 * 83.1218\")...\n",
      "\u001b[0m\n",
      "Answer: \u001b[33;1m\u001b[1;3m34382.501352\u001b[0m\n",
      "\u001b[1m> Finished chain.\u001b[0m\n",
      "\n",
      "Observation: \u001b[33;1m\u001b[1;3mAnswer: 34382.501352\u001b[0m\n",
      "Thought:\u001b[32;1m\u001b[1;3m I now know the final answer.\n",
      "Final Answer: The current Microsoft stock price is $413.64 USD and 34,382.50 INR.\u001b[0m\n",
      "\n",
      "\u001b[1m> Finished chain.\u001b[0m\n"
     ]
    },
    {
     "data": {
      "text/plain": [
       "'The current Microsoft stock price is $413.64 USD and 34,382.50 INR.'"
      ]
     },
     "execution_count": 25,
     "metadata": {},
     "output_type": "execute_result"
    }
   ],
   "source": [
    "# Run the Agent with the problem\n",
    "\n",
    "agent.run(\"\"\"Get Microsoft Stock Price taken from Google Finance and display in both USD and INR values\"\"\")"
   ]
  },
  {
   "cell_type": "markdown",
   "id": "3f7a5e46",
   "metadata": {},
   "source": [
    "## Create a custom tool"
   ]
  },
  {
   "cell_type": "code",
   "execution_count": 29,
   "id": "1d3dbf54",
   "metadata": {},
   "outputs": [],
   "source": [
    "from langchain.tools import BaseTool\n",
    "from langchain_core.output_parsers import JsonOutputParser\n",
    "from langchain.tools import tool\n",
    "\n",
    "@tool(\"JSON_Response\", return_direct=True)\n",
    "def StructuredResponseTool(question: str):\n",
    "    \"\"\"\n",
    "    use this tool to send a prompt and get a JSON returned \n",
    "    with three fields - Topic, Question_Details and Detailed_Response\n",
    "    \"\"\"\n",
    "    json_prompt = PromptTemplate.from_template(\n",
    "    \"\"\"Return a JSON object with an `answer` key that answers the following question: {question}. \n",
    "        The JSON object will have three fields - Topic, Question_Details and Detailed_Response\"\"\"\n",
    "    )\n",
    "\n",
    "    model = OpenAI(model_name=\"gpt-3.5-turbo-instruct\", temperature=0.5)\n",
    "\n",
    "    json_parser = JsonOutputParser()\n",
    "    json_chain = json_prompt | model | json_parser\n",
    "    x = json_chain.invoke({\"question\": question})\n",
    "    return x"
   ]
  },
  {
   "cell_type": "code",
   "execution_count": 30,
   "id": "b1ca4373",
   "metadata": {},
   "outputs": [],
   "source": [
    "from langchain.chat_models import ChatOpenAI\n",
    "from langchain.prompts import PromptTemplate\n",
    "from langchain.chains.conversation.memory import ConversationBufferWindowMemory"
   ]
  },
  {
   "cell_type": "code",
   "execution_count": 31,
   "id": "965a3838",
   "metadata": {},
   "outputs": [],
   "source": [
    "from langchain.agents import initialize_agent\n",
    "\n",
    "tools = [StructuredResponseTool]\n",
    "\n",
    "# initialize agent with tools\n",
    "zero_shot_agent = initialize_agent(\n",
    "    agent=\"zero-shot-react-description\",\n",
    "    tools=tools,\n",
    "    llm=llm,\n",
    "    verbose=True,\n",
    "    max_iterations=10\n",
    ")"
   ]
  },
  {
   "cell_type": "code",
   "execution_count": 32,
   "id": "ebe8b063",
   "metadata": {},
   "outputs": [
    {
     "name": "stdout",
     "output_type": "stream",
     "text": [
      "\n",
      "\n",
      "\u001b[1m> Entering new AgentExecutor chain...\u001b[0m\n",
      "\u001b[32;1m\u001b[1;3m I should use the JSON_Response tool to get the answer\n",
      "Action: JSON_Response\n",
      "Action Input: \"Which is the top football team in the world and how\"\u001b[0m\n",
      "Observation: \u001b[36;1m\u001b[1;3m{'Topic': 'Football', 'Question_Details': 'Which is the top football team in the world and how?', 'Detailed_Response': \"The top football team in the world is subjective and can vary depending on personal opinions. However, according to FIFA's current world rankings, the top football team in the world is Belgium. This is determined by a points system based on the team's performance in international matches. Belgium has consistently performed well in recent years and has a talented squad of players, including Kevin De Bruyne, Eden Hazard, and Romelu Lukaku. They also have a strong team strategy and have been successful in major tournaments such as the World Cup and European Championship. Overall, Belgium's consistent success and strong team make them the top football team in the world according to FIFA's rankings.\"}\u001b[0m\n",
      "\u001b[32;1m\u001b[1;3m\u001b[0m\n",
      "\n",
      "\u001b[1m> Finished chain.\u001b[0m\n"
     ]
    },
    {
     "data": {
      "text/plain": [
       "{'Topic': 'Football',\n",
       " 'Question_Details': 'Which is the top football team in the world and how?',\n",
       " 'Detailed_Response': \"The top football team in the world is subjective and can vary depending on personal opinions. However, according to FIFA's current world rankings, the top football team in the world is Belgium. This is determined by a points system based on the team's performance in international matches. Belgium has consistently performed well in recent years and has a talented squad of players, including Kevin De Bruyne, Eden Hazard, and Romelu Lukaku. They also have a strong team strategy and have been successful in major tournaments such as the World Cup and European Championship. Overall, Belgium's consistent success and strong team make them the top football team in the world according to FIFA's rankings.\"}"
      ]
     },
     "execution_count": 32,
     "metadata": {},
     "output_type": "execute_result"
    }
   ],
   "source": [
    "zero_shot_agent.run(input=\"Which is the top football team in the world and how, the response should have three fields in the JSON - topic of the question, the question and the detailed response\")"
   ]
  },
  {
   "cell_type": "code",
   "execution_count": null,
   "id": "8f2a0710",
   "metadata": {},
   "outputs": [],
   "source": []
  },
  {
   "cell_type": "code",
   "execution_count": null,
   "id": "db396abf",
   "metadata": {},
   "outputs": [],
   "source": []
  },
  {
   "cell_type": "code",
   "execution_count": null,
   "id": "cf6ede7b",
   "metadata": {},
   "outputs": [],
   "source": []
  },
  {
   "cell_type": "code",
   "execution_count": null,
   "id": "6fb0adfd",
   "metadata": {},
   "outputs": [],
   "source": []
  },
  {
   "cell_type": "code",
   "execution_count": null,
   "id": "6769ef3c",
   "metadata": {},
   "outputs": [],
   "source": []
  },
  {
   "cell_type": "code",
   "execution_count": null,
   "id": "4132c7b3",
   "metadata": {},
   "outputs": [],
   "source": []
  }
 ],
 "metadata": {
  "kernelspec": {
   "display_name": "Python 3 (ipykernel)",
   "language": "python",
   "name": "python3"
  },
  "language_info": {
   "codemirror_mode": {
    "name": "ipython",
    "version": 3
   },
   "file_extension": ".py",
   "mimetype": "text/x-python",
   "name": "python",
   "nbconvert_exporter": "python",
   "pygments_lexer": "ipython3",
   "version": "3.9.12"
  }
 },
 "nbformat": 4,
 "nbformat_minor": 5
}
