{
 "cells": [
  {
   "cell_type": "markdown",
   "id": "03a5c00c",
   "metadata": {},
   "source": [
    "## In this Notebook, we will create a basic Q&A chain and Agent over a SQL database"
   ]
  },
  {
   "cell_type": "markdown",
   "id": "d06633c3",
   "metadata": {},
   "source": [
    "### Architecture\n",
    "\n",
    "At a high-level, the steps of any SQL chain and agent are:\n",
    "\n",
    "- `Convert question to SQL query using the LLM Model.`\n",
    "- `Execute the SQL query.`\n",
    "- `getting the Model to respond to user input using the query results.`"
   ]
  },
  {
   "cell_type": "code",
   "execution_count": 1,
   "id": "5ddeeaf6",
   "metadata": {},
   "outputs": [],
   "source": [
    "from langchain.utilities import SQLDatabase\n",
    "from langchain.llms import OpenAI\n",
    "from langchain_experimental.sql import SQLDatabaseChain\n",
    "from langchain.prompts import PromptTemplate\n",
    "from langchain.prompts.chat import HumanMessagePromptTemplate\n",
    "from langchain.chat_models import ChatOpenAI\n",
    "from langchain.schema import HumanMessage, SystemMessage\n",
    "from langchain.chains import create_sql_query_chain\n",
    "from langchain_openai import ChatOpenAI\n",
    "from dotenv import load_dotenv"
   ]
  },
  {
   "cell_type": "code",
   "execution_count": 2,
   "id": "b30624fa",
   "metadata": {},
   "outputs": [
    {
     "data": {
      "text/plain": [
       "True"
      ]
     },
     "execution_count": 2,
     "metadata": {},
     "output_type": "execute_result"
    }
   ],
   "source": [
    "load_dotenv()"
   ]
  },
  {
   "cell_type": "code",
   "execution_count": 3,
   "id": "203dcbe2",
   "metadata": {},
   "outputs": [],
   "source": [
    "llm = ChatOpenAI(temperature=0)"
   ]
  },
  {
   "cell_type": "code",
   "execution_count": 4,
   "id": "a5ac620a",
   "metadata": {},
   "outputs": [],
   "source": [
    "host = 'localhost'\n",
    "port = '3306'\n",
    "username = 'root'\n",
    "password = 'xxxxx'\n",
    "database_schema = 'analytics'\n",
    "mysql_uri = f\"mysql+pymysql://{username}:{password}@{host}:{port}/{database_schema}\"\n",
    "\n",
    "db = SQLDatabase.from_uri(mysql_uri, sample_rows_in_table_info=2)\n",
    "chain = create_sql_query_chain(llm, db)"
   ]
  },
  {
   "cell_type": "code",
   "execution_count": 5,
   "id": "8fb4c912",
   "metadata": {},
   "outputs": [
    {
     "name": "stdout",
     "output_type": "stream",
     "text": [
      "mysql\n",
      "['customer', 'employee', 'inventoryitem', 'itemsize', 'manufacturer', 'product', 'purchase', 'purchaseitem', 'sale', 'saleitem', 'your_table_name']\n"
     ]
    },
    {
     "data": {
      "text/plain": [
       "'[(4417,)]'"
      ]
     },
     "execution_count": 5,
     "metadata": {},
     "output_type": "execute_result"
    }
   ],
   "source": [
    "print(db.dialect)\n",
    "print(db.get_usable_table_names())\n",
    "db.run(\"SELECT count(*) FROM customer LIMIT 10;\")"
   ]
  },
  {
   "cell_type": "code",
   "execution_count": 6,
   "id": "fb6515e1",
   "metadata": {},
   "outputs": [
    {
     "data": {
      "text/plain": [
       "'SELECT COUNT(employeeid) AS total_employees FROM employee;'"
      ]
     },
     "execution_count": 6,
     "metadata": {},
     "output_type": "execute_result"
    }
   ],
   "source": [
    "response = chain.invoke({\"question\": \"How many employees are there\"})\n",
    "response"
   ]
  },
  {
   "cell_type": "code",
   "execution_count": 7,
   "id": "1d66e095",
   "metadata": {},
   "outputs": [
    {
     "data": {
      "text/plain": [
       "'[(21,)]'"
      ]
     },
     "execution_count": 7,
     "metadata": {},
     "output_type": "execute_result"
    }
   ],
   "source": [
    "db.run(response)"
   ]
  },
  {
   "cell_type": "code",
   "execution_count": 8,
   "id": "b3d18b40",
   "metadata": {},
   "outputs": [
    {
     "name": "stdout",
     "output_type": "stream",
     "text": [
      "SELECT COUNT(*) AS num_customers\n",
      "FROM customer\n",
      "WHERE city = 'Bronx';\n",
      "[(9,)]\n"
     ]
    }
   ],
   "source": [
    "response = chain.invoke({\"question\": \"How many customers are from Bronx\"})\n",
    "print(response)\n",
    "print(db.run(response))"
   ]
  },
  {
   "cell_type": "code",
   "execution_count": 9,
   "id": "13a5754c",
   "metadata": {},
   "outputs": [
    {
     "name": "stdout",
     "output_type": "stream",
     "text": [
      "SELECT state, COUNT(*) AS total_customers\n",
      "FROM customer\n",
      "GROUP BY state\n",
      "ORDER BY total_customers DESC\n",
      "LIMIT 1;\n",
      "[('CA', 375)]\n"
     ]
    }
   ],
   "source": [
    "response = chain.invoke({\"question\": \"Which state are customers most from?\"})\n",
    "print(response)\n",
    "print(db.run(response))"
   ]
  },
  {
   "cell_type": "code",
   "execution_count": 10,
   "id": "c293f9d4",
   "metadata": {},
   "outputs": [
    {
     "name": "stdout",
     "output_type": "stream",
     "text": [
      "SELECT c.customerid, c.firstname, c.lastname, c.streetaddress, c.city, c.state, c.postalcode, c.country, c.phone\n",
      "FROM customer c\n",
      "JOIN sale s ON c.customerid = s.customerid\n",
      "ORDER BY s.shipping DESC\n",
      "LIMIT 5;\n",
      "[(16433, 'Freddie', 'Shafer', '5201 S Dorchester Ave', 'Chicago', 'IL', '60615', 'USA', '(312) 288-8190'), (12976, 'Cassie', 'Hill', '4612 Broad St #202', 'Virginia Beach', 'VA', '23462', 'USA', '(757) 490-7037'), (1762, 'Lorie', 'Obal', '132 Karen Pl', 'Steubenville', 'OH', '43953', 'USA', '(740) 264-2378'), (1096, 'Meliha', 'Handzic', '14734 4th St', 'Laurel', 'MD', '20707', 'USA', '(301) 483-7981'), (15651, 'Kathleen', 'Hartzel', '1208 Dunleaf Arc Way', 'Norcross', 'GA', '30093', 'USA', '(770) 931-3172')]\n"
     ]
    }
   ],
   "source": [
    "response = chain.invoke({\"question\": \"Give me the top 5 customers who paid the highest shipping charges\"})\n",
    "print(response)\n",
    "print(db.run(response))"
   ]
  },
  {
   "cell_type": "code",
   "execution_count": null,
   "id": "ca635ee7",
   "metadata": {},
   "outputs": [],
   "source": []
  },
  {
   "cell_type": "code",
   "execution_count": null,
   "id": "51155224",
   "metadata": {},
   "outputs": [],
   "source": []
  },
  {
   "cell_type": "code",
   "execution_count": null,
   "id": "5d93f858",
   "metadata": {},
   "outputs": [],
   "source": []
  },
  {
   "cell_type": "code",
   "execution_count": null,
   "id": "9a11622e",
   "metadata": {},
   "outputs": [],
   "source": []
  }
 ],
 "metadata": {
  "kernelspec": {
   "display_name": "Python 3 (ipykernel)",
   "language": "python",
   "name": "python3"
  },
  "language_info": {
   "codemirror_mode": {
    "name": "ipython",
    "version": 3
   },
   "file_extension": ".py",
   "mimetype": "text/x-python",
   "name": "python",
   "nbconvert_exporter": "python",
   "pygments_lexer": "ipython3",
   "version": "3.9.12"
  }
 },
 "nbformat": 4,
 "nbformat_minor": 5
}
