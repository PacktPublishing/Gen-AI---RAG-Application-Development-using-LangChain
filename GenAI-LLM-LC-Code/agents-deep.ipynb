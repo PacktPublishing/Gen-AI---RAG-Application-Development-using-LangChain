{
 "cells": [
  {
   "cell_type": "markdown",
   "id": "9995428c",
   "metadata": {},
   "source": [
    "## Getting a bit more deeper into Agents"
   ]
  },
  {
   "cell_type": "markdown",
   "id": "d43822e8",
   "metadata": {},
   "source": [
    "### Conversational ReAct Agents\n",
    "This agent is designed for use in conversational settings. It incorporates the React framework to determine which tool to use and utilizes memory to remember previous conversation interactions."
   ]
  },
  {
   "cell_type": "code",
   "execution_count": 10,
   "id": "e3da1f22",
   "metadata": {},
   "outputs": [
    {
     "data": {
      "text/plain": [
       "True"
      ]
     },
     "execution_count": 10,
     "metadata": {},
     "output_type": "execute_result"
    }
   ],
   "source": [
    "from langchain.agents import create_react_agent, load_tools\n",
    "from langchain_openai import ChatOpenAI\n",
    "from langchain.memory import ConversationBufferMemory\n",
    "from dotenv import load_dotenv\n",
    "load_dotenv()"
   ]
  },
  {
   "cell_type": "code",
   "execution_count": 52,
   "id": "4c116d09",
   "metadata": {},
   "outputs": [],
   "source": [
    "llm = ChatOpenAI(temperature=0, model_name='gpt-3.5-turbo-0125')"
   ]
  },
  {
   "cell_type": "code",
   "execution_count": 53,
   "id": "d7587b94",
   "metadata": {},
   "outputs": [],
   "source": [
    "tools = load_tools([\"llm-math\"],  llm=llm)"
   ]
  },
  {
   "cell_type": "code",
   "execution_count": 54,
   "id": "2135da4f",
   "metadata": {},
   "outputs": [],
   "source": [
    "memory = ConversationBufferMemory(memory_key=\"chat_history\")\n",
    "\n",
    "conversational_agent = initialize_agent(\n",
    "    agent=\"conversational-react-description\", \n",
    "    tools=tools, \n",
    "    llm=llm,\n",
    "    verbose=True,\n",
    "    max_iterations=3,\n",
    "    memory=memory,)"
   ]
  },
  {
   "cell_type": "code",
   "execution_count": 55,
   "id": "641ac30b",
   "metadata": {},
   "outputs": [
    {
     "name": "stdout",
     "output_type": "stream",
     "text": [
      "\n",
      "\n",
      "\u001b[1m> Entering new AgentExecutor chain...\u001b[0m\n",
      "\u001b[32;1m\u001b[1;3mThought: Do I need to use a tool? Yes\n",
      "Action: Calculator\n",
      "Action Input: Add 7 to 9\u001b[0m\n",
      "Observation: \u001b[36;1m\u001b[1;3mAnswer: 16\u001b[0m\n",
      "Thought:\u001b[32;1m\u001b[1;3mDo I need to use a tool? No\n",
      "AI: The result of adding 7 to 9 is 16.\u001b[0m\n",
      "\n",
      "\u001b[1m> Finished chain.\u001b[0m\n",
      "\n",
      "\n",
      "\u001b[1m> Entering new AgentExecutor chain...\u001b[0m\n",
      "\u001b[32;1m\u001b[1;3mThought: Do I need to use a tool? Yes\n",
      "Action: Calculator\n",
      "Action Input: Add 5 to 16\u001b[0m\n",
      "Observation: \u001b[36;1m\u001b[1;3mAnswer: 21\u001b[0m\n",
      "Thought:\u001b[32;1m\u001b[1;3mDo I need to use a tool? No\n",
      "AI: The result of adding 5 to the previous result of 16 is 21.\u001b[0m\n",
      "\n",
      "\u001b[1m> Finished chain.\u001b[0m\n"
     ]
    }
   ],
   "source": [
    "output_1=conversational_agent.run(\"Add 7 to 9 and tell me the result\")\n",
    "output_2=conversational_agent.run(\"Add 5 to the previous result\")"
   ]
  },
  {
   "cell_type": "code",
   "execution_count": 56,
   "id": "af86bb45",
   "metadata": {},
   "outputs": [
    {
     "name": "stdout",
     "output_type": "stream",
     "text": [
      "The result of adding 7 to 9 is 16.\n",
      "The result of adding 5 to the previous result of 16 is 21.\n"
     ]
    }
   ],
   "source": [
    "print(output_1)\n",
    "print(output_2)"
   ]
  },
  {
   "cell_type": "markdown",
   "id": "89ccc34a",
   "metadata": {},
   "source": [
    "## ReAct Docstore\n",
    "This agent utilizes the React framework to communicate with a docstore. It requires the availability of a Search tool and a Lookup tool with identical names. The Search tool is used to search for a document, while the Lookup tool looks up a term within the most recently found document."
   ]
  },
  {
   "cell_type": "markdown",
   "id": "6e3d7420",
   "metadata": {},
   "source": [
    "A `docstore` in Langchain is essentially a storage system for documents. It provides a way for Langchain agents to access and interact with information. Think of it like a library, but instead of books, it holds pieces of text and associated data."
   ]
  },
  {
   "cell_type": "code",
   "execution_count": 57,
   "id": "8f602d64",
   "metadata": {},
   "outputs": [],
   "source": [
    "from langchain.agents import initialize_agent, Tool\n",
    "from langchain import Wikipedia\n",
    "from langchain.agents.react.base import DocstoreExplorer"
   ]
  },
  {
   "cell_type": "code",
   "execution_count": 65,
   "id": "6dc87455",
   "metadata": {},
   "outputs": [],
   "source": [
    "docstore = DocstoreExplorer(Wikipedia())\n",
    "tools=[\n",
    "    Tool(name=\"Search\", func=docstore.search, description=\"useful for when you need to search wikipedia\"),\n",
    "    Tool(name=\"Lookup\", func=docstore.lookup, description=\"useful for when you need to lookup a term in wikipedia\")]\n",
    "\n",
    "#intializing the agent\n",
    "llm = OpenAI(temperature=0)\n",
    "docstore_agent=initialize_agent(\n",
    "    tools,\n",
    "    llm,\n",
    "    agent=\"react-docstore\",\n",
    "    verbose=True,\n",
    "    handle_parsing_errors=True,\n",
    "    max_iterations=8\n",
    ")"
   ]
  },
  {
   "cell_type": "code",
   "execution_count": 67,
   "id": "67b08b47",
   "metadata": {},
   "outputs": [
    {
     "name": "stdout",
     "output_type": "stream",
     "text": [
      "\n",
      "\n",
      "\u001b[1m> Entering new AgentExecutor chain...\u001b[0m\n",
      "\u001b[32;1m\u001b[1;3mThought: I need to search Mahatma Gandhi and find key information about him.\n",
      "Action: Search[Mahatma Gandhi]\u001b[0m\n",
      "Observation: \u001b[36;1m\u001b[1;3mMohandas Karamchand Gandhi (ISO: Mōhanadāsa Karamacaṁda Gāṁdhī; 2 October 1869 – 30 January 1948) was an Indian lawyer, anti-colonial nationalist and political ethicist who employed nonviolent resistance to lead the successful campaign for India's independence from British rule. He inspired movements for civil rights and freedom across the world. The honorific Mahātmā (from Sanskrit 'great-souled, venerable'), first applied to him in South Africa in 1914, is now used throughout the world.\n",
      "Born and raised in a Hindu family in coastal Gujarat, Gandhi trained in the law at the Inner Temple in London, and was called to the bar in June 1891, at the age of 22. After two uncertain years in India, where he was unable to start a successful law practice, he moved to South Africa in 1893 to represent an Indian merchant in a lawsuit. He went on to live in South Africa for 21 years. There, Gandhi raised a family and first employed nonviolent resistance in a campaign for civil rights. In 1915, aged 45, he returned to India and soon set about organising peasants, farmers, and urban labourers to protest against discrimination and excessive land-tax.\n",
      "Assuming leadership of the Indian National Congress in 1921, Gandhi led nationwide campaigns for easing poverty, expanding women's rights, building religious and ethnic amity, ending untouchability, and, above all, achieving swaraj or self-rule. Gandhi adopted the short dhoti woven with hand-spun yarn as a mark of identification with India's rural poor. He began to live in a self-sufficient residential community, to eat simple food, and undertake long fasts as a means of both introspection and political protest. Bringing anti-colonial nationalism to the common Indians, Gandhi led them in challenging the British-imposed salt tax with the 400 km (250 mi) Dandi Salt March in 1930 and in calling for the British to quit India in 1942. He was imprisoned many times and for many years in both South Africa and India.\n",
      "Gandhi's vision of an independent India based on religious pluralism was challenged in the early 1940s by a Muslim nationalism which demanded a separate homeland for Muslims within British India. In August 1947, Britain granted independence, but the British Indian Empire was partitioned into two dominions, a Hindu-majority India and a Muslim-majority Pakistan. As many displaced Hindus, Muslims, and Sikhs made their way to their new lands, religious violence broke out, especially in the Punjab and Bengal. Abstaining from the official celebration of independence, Gandhi visited the affected areas, attempting to alleviate distress. In the months following, he undertook several hunger strikes to stop the religious violence. The last of these was begun in Delhi on 12 January 1948, when he was 78. The belief that Gandhi had been too resolute in his defense of both Pakistan and Indian Muslims spread among some Hindus in India. Among these was Nathuram Godse, a militant Hindu nationalist from Pune, western India, who assassinated Gandhi by firing three bullets into his chest at an interfaith prayer meeting in Delhi on 30 January 1948. \n",
      "Gandhi's birthday, 2 October, is commemorated in India as Gandhi Jayanti, a national holiday, and worldwide as the International Day of Nonviolence. Gandhi is considered to be the Father of the Nation in post-colonial India. During India's nationalist movement and in several decades immediately after, he was also commonly called Bapu (Gujarati endearment for \"father\", roughly \"papa\", \"daddy\").\u001b[0m\n",
      "Thought:\u001b[32;1m\u001b[1;3mCould not parse action directive: Finish[Mahatma Gandhi was an Indian lawyer, anti-colonial nationalist, and political ethicist who used nonviolent resistance to lead India to independence from British rule. He was born on October 2, 1869, and was assassinated on January 30, 1948. He is known as the Father of the\u001b[0m\n",
      "Observation: Invalid or incomplete response\n",
      "Thought:\u001b[32;1m\u001b[1;3m I need to summarize key information about Mahatma Gandhi from the paragraph.\n",
      "Action: Summarize[Mahatma Gandhi was an Indian lawyer, anti-colonial nationalist, and political ethicist who used nonviolent resistance to lead India to independence from British rule. He was born on October 2, 1869, and was assassinated on January 30, 1948. He is known as the Father of the Nation in India and is celebrated worldwide on October 2 as the International Day of Nonviolence.]\u001b[0m\n",
      "Observation: Summarize is not a valid tool, try one of [Search, Lookup].\n",
      "Thought:\u001b[32;1m\u001b[1;3m I can use the information to answer the question by stating that Mahatma Gandhi was an Indian lawyer, anti-colonial nationalist, and political ethicist who used nonviolent resistance to lead India to independence from British rule. He was known as the Father of the Nation in India and is celebrated worldwide on October 2 as the International Day of Nonviolence.\n",
      "Action: Finish[Mahatma Gandhi was an Indian lawyer, anti-colonial nationalist, and political ethicist who used nonviolent resistance to lead India to independence from British rule. He was known as the Father of the Nation in India and is celebrated worldwide on October 2 as the International Day of Nonviolence.]\u001b[0m\n",
      "\n",
      "\u001b[1m> Finished chain.\u001b[0m\n"
     ]
    },
    {
     "data": {
      "text/plain": [
       "{'input': 'Tell me a few key things about Mahatma Gandhi.',\n",
       " 'output': 'Mahatma Gandhi was an Indian lawyer, anti-colonial nationalist, and political ethicist who used nonviolent resistance to lead India to independence from British rule. He was known as the Father of the Nation in India and is celebrated worldwide on October 2 as the International Day of Nonviolence.'}"
      ]
     },
     "execution_count": 67,
     "metadata": {},
     "output_type": "execute_result"
    }
   ],
   "source": [
    "docstore_agent(\"Tell me a few key things about Mahatma Gandhi.\")"
   ]
  },
  {
   "cell_type": "markdown",
   "id": "a12108dd",
   "metadata": {},
   "source": [
    "## Self-ask with Search\n",
    "This agent utilizes the Intermediate Answer tool for self-asking questions."
   ]
  },
  {
   "cell_type": "code",
   "execution_count": 74,
   "id": "5edca0f3",
   "metadata": {},
   "outputs": [],
   "source": [
    "from langchain.tools import DuckDuckGoSearchRun\n",
    "search = DuckDuckGoSearchRun()\n",
    "\n",
    "tools = [\n",
    "    Tool(\n",
    "        func=search.run,\n",
    "        name=\"Intermediate Answer\",\n",
    "        description=\"useful for when you need to search the internet for information\"\n",
    "    )\n",
    "\n",
    "]\n",
    "\n",
    "agent = initialize_agent(\n",
    "    tools=tools,\n",
    "    llm=llm,\n",
    "    agent=\"self-ask-with-search\",\n",
    "    verbose=True,\n",
    "    handle_parsing_errors=True\n",
    ")"
   ]
  },
  {
   "cell_type": "code",
   "execution_count": 76,
   "id": "b024ca1e",
   "metadata": {},
   "outputs": [
    {
     "name": "stdout",
     "output_type": "stream",
     "text": [
      "\n",
      "\n",
      "\u001b[1m> Entering new AgentExecutor chain...\u001b[0m\n",
      "\u001b[32;1m\u001b[1;3m Yes.\n",
      "Follow up: When did the first Moon landing take place?\u001b[0m\n",
      "Intermediate answer: \u001b[36;1m\u001b[1;3mIntuitive Machines' Nova-C lander, nicknamed Odysseus, is expected to touch down on the lunar surface at 4:24 p.m. ET. If all goes as planned, the lander will be the first American spacecraft on ... Thursday's landing represented the first controlled descent to the lunar surface by a U.S. spacecraft since Apollo 17 in 1972, when NASA's last crewed moon mission landed there with astronauts ... Neil Armstrong (1930-2012) was a U.S. astronaut who became the first human to walk on the moon on July 20, 1969, as part of the Apollo 11 mission. Apollo 11, U.S. spaceflight during which commander Neil Armstrong and lunar module pilot Edwin (\"Buzz\") Aldrin, Jr., on July 20, 1969, became the first people to land on the Moon and walk the lunar surface. Apollo 11 was the culmination of the Apollo program and a massive national commitment by the United States to beat the Soviet Union in ... Lander touches down for first U.S. moon landing since 1972 02:02. Intuitive Machines' Odysseus lander touched down on the moon Thursday after a historic, nail-biting descent following a last ...\u001b[0m\n",
      "\u001b[32;1m\u001b[1;3mIntermediate answer: The first Moon landing took place on July 20, 1969.\n",
      "Follow up: Who was the president of the USA on July 20, 1969?\u001b[0m\n",
      "Intermediate answer: \u001b[36;1m\u001b[1;3mAs the head of the government of the United States, the president is arguably the most powerful government official in the world. The president is elected to a four-year term via an electoral college system. ... 20 James A. Garfield: Ohio Republican: 1881* 21 Chester A. Arthur: Vt. Republican ... 1969-74** 38 Gerald R. Ford: Neb. Republican ... By mentalfloss .com | Oct 24, 2023, 10:12 AM EDT. On July 16, 1969, Apollo 11 astronauts Neil Armstrong, Buzz Aldrin, and Michael Collins launched from Florida's Kennedy Space Center with the ... Space Samples Link NASA's Apollo 11 and Mars 2020. 4 min read. On July 24, 1969, Apollo 11 command module Columbia splashed down in the Pacific, fulfilling President Kennedy's goal to land a man on the Moon and return him safely to Earth. Among the mission's many firsts was the acquisition and…. Article. Lyndon Baines Johnson (/ ˈ l ɪ n d ə n ˈ b eɪ n z /; August 27, 1908 - January 22, 1973), often referred to by his initials LBJ, was an American politician who served as the 36th president of the United States from 1963 to 1969. He became president after the assassination of John F. Kennedy, under whom he had served as the 37th vice president from 1961 to 1963. Neil Armstrong (1930-2012) was a U.S. astronaut who became the first human to walk on the moon on July 20, 1969, as part of the Apollo 11 mission. Neil Armstrong (1930-2012) was an American ...\u001b[0m\n",
      "\u001b[32;1m\u001b[1;3mCould not parse output: Intermediate answer: The president of the USA on July 20, 1969 was Richard Nixon.\u001b[0m\n",
      "Intermediate answer: Invalid or incomplete response\n",
      "\u001b[32;1m\u001b[1;3mSo the final answer is: Richard Nixon\u001b[0m\n",
      "\n",
      "\u001b[1m> Finished chain.\u001b[0m\n",
      "{'input': 'Question: Who was the president of USA when the first Moom landing took place?', 'output': 'Richard Nixon'}\n"
     ]
    }
   ],
   "source": [
    "print(agent.invoke(\"Question: Who was the president of USA when the first Moom landing took place?\"))"
   ]
  },
  {
   "cell_type": "markdown",
   "id": "d9a55eb7",
   "metadata": {},
   "source": [
    "The above code imports necessary modules from the LangChain library, including agents and language models. It sets up a conversational agent with a specific agent configuration called “self-ask-with-search”. The agent utilizes the “Intermediate Answer” tool, which performs Wikipedia searches."
   ]
  },
  {
   "cell_type": "code",
   "execution_count": null,
   "id": "7dbe03fc",
   "metadata": {},
   "outputs": [],
   "source": []
  },
  {
   "cell_type": "code",
   "execution_count": null,
   "id": "de75d8d8",
   "metadata": {},
   "outputs": [],
   "source": []
  },
  {
   "cell_type": "code",
   "execution_count": null,
   "id": "83a2ca08",
   "metadata": {},
   "outputs": [],
   "source": []
  }
 ],
 "metadata": {
  "kernelspec": {
   "display_name": "Python 3 (ipykernel)",
   "language": "python",
   "name": "python3"
  },
  "language_info": {
   "codemirror_mode": {
    "name": "ipython",
    "version": 3
   },
   "file_extension": ".py",
   "mimetype": "text/x-python",
   "name": "python",
   "nbconvert_exporter": "python",
   "pygments_lexer": "ipython3",
   "version": "3.9.12"
  }
 },
 "nbformat": 4,
 "nbformat_minor": 5
}
